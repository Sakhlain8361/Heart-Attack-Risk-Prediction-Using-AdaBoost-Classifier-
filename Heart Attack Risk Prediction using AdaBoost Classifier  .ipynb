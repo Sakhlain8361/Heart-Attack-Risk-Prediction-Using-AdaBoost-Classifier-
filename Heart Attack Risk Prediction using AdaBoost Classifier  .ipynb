{
 "cells": [
  {
   "cell_type": "markdown",
   "id": "2ffa5c1e-9776-4231-8373-eb6555f75e87",
   "metadata": {},
   "source": [
    "# Heart Attack Risk Prediction using AdaBoost Classifier  "
   ]
  },
  {
   "cell_type": "markdown",
   "id": "d52016f8-fbee-4208-aba5-120b0f6fe405",
   "metadata": {},
   "source": [
    "\n",
    "\n",
    "## 1. Introduction  \n",
    "\n",
    "Heart disease is one of the leading causes of death worldwide, and early detection of heart attack risk can significantly help in preventive healthcare. In this project, we use the **AdaBoost Classifier** to predict the risk of a heart attack based on various health parameters.  \n",
    "\n",
    "## 2. Libraries Used  \n",
    "\n",
    "The following Python libraries were used in this project:  \n",
    "\n",
    "- **pandas** - For data loading and manipulation  \n",
    "- **numpy** - For numerical operations  \n",
    "- **seaborn** - For data visualization  \n",
    "- **sklearn.preprocessing.LabelEncoder** - To convert categorical variables into numerical form  \n",
    "- **sklearn.model_selection.train_test_split** - For splitting the dataset into training and testing sets  \n",
    "- **sklearn.ensemble.AdaBoostClassifier** - For model training  \n",
    "- **sklearn.metrics.accuracy_score** - For model evaluation  \n",
    "\n",
    "## 3. About the Dataset  \n",
    "\n",
    "The dataset contains multiple features that help determine heart attack risk based on various health and lifestyle factors. The dataset consists of the following columns:  \n",
    "\n",
    "- **Gender**: Male or Female  \n",
    "- **Age**: Patient's age  \n",
    "- **Physical_Activity_Level**: Level of exercise performed  \n",
    "- **Stress_Level**: Patient's stress level  \n",
    "- **Chest_Pain_Type**: Type of chest pain experienced  \n",
    "- **Thalassemia**: Blood disorder information  \n",
    "- **ECG_Results**: Electrocardiogram readings  \n",
    "- **Diabetes**: Whether the patient has diabetes (Target Variable)  \n",
    "- **Heart_Attack_Risk**: Risk classification for heart attack  \n",
    "\n",
    "### Relationships Between Variables  \n",
    "\n",
    "- Higher stress levels and lower physical activity levels may indicate an increased risk of heart disease.  \n",
    "- Abnormal ECG results and certain chest pain types are strong indicators of heart-related conditions.  \n",
    "- Patients with diabetes often have a higher risk of heart disease.  \n",
    "\n",
    "## 4. Data Preprocessing  \n",
    "\n",
    "### Checking for Null Values  \n",
    "\n",
    "The dataset was analyzed for missing values, and no null values were found. This ensures that no data imputation was required.  \n",
    "\n",
    "### Encoding Categorical Variables  \n",
    "\n",
    "Since the dataset contains categorical features, we used **Label Encoding** to convert them into numerical form:  \n"
   ]
  },
  {
   "cell_type": "code",
   "execution_count": null,
   "id": "7c39252b-70f4-4873-8672-aa9fefcaf64e",
   "metadata": {},
   "outputs": [],
   "source": [
    "from sklearn.preprocessing import LabelEncoder\n",
    "le = LabelEncoder()\n",
    "data['Gender'] = le.fit_transform(data['Gender'])\n",
    "data['Physical_Activity_Level'] = le.fit_transform(data['Physical_Activity_Level'])\n",
    "data['Stress_Level'] = le.fit_transform(data['Stress_Level'])\n",
    "data['Chest_Pain_Type'] = le.fit_transform(data['Chest_Pain_Type'])\n",
    "data['Thalassemia'] = le.fit_transform(data['Thalassemia'])\n",
    "data['ECG_Results'] = le.fit_transform(data['ECG_Results'])\n",
    "data['Heart_Attack_Risk'] = le.fit_transform(data['Heart_Attack_Risk'])"
   ]
  },
  {
   "cell_type": "markdown",
   "id": "42ba7131-30b4-4adf-ba99-8fddb1994d77",
   "metadata": {},
   "source": [
    "## 5. Model Building"
   ]
  },
  {
   "cell_type": "markdown",
   "id": "5824ace4-b131-4e90-a143-62778b53588f",
   "metadata": {},
   "source": [
    "The dataset was split into features (X) and the target variable (Y). The Diabetes column was chosen as the target variable."
   ]
  },
  {
   "cell_type": "code",
   "execution_count": null,
   "id": "2d1df3f4-ecbb-487c-b328-5fb3a60202c9",
   "metadata": {},
   "outputs": [],
   "source": [
    "from sklearn.model_selection import train_test_split\n",
    "x = data.drop(['Diabetes'], axis=1)\n",
    "y = data['Diabetes']"
   ]
  },
  {
   "cell_type": "markdown",
   "id": "74b0e7b6-5937-46cf-83b8-682f452043d3",
   "metadata": {},
   "source": [
    "### Splitting Data into Training and Testing Sets"
   ]
  },
  {
   "cell_type": "code",
   "execution_count": null,
   "id": "bba80e46-4290-4b7e-9b06-6e6811a41516",
   "metadata": {},
   "outputs": [],
   "source": [
    "x_train, x_test, y_train, y_test = train_test_split(x, y, test_size=0.2, random_state=42)"
   ]
  },
  {
   "cell_type": "markdown",
   "id": "31499289-9d13-4fcc-a934-b293667cb4ce",
   "metadata": {},
   "source": [
    "### Training the AdaBoost Classifier"
   ]
  },
  {
   "cell_type": "code",
   "execution_count": null,
   "id": "3321da16-1f8c-47dc-8b52-32cefc35fbf1",
   "metadata": {},
   "outputs": [],
   "source": [
    "from sklearn.ensemble import AdaBoostClassifier\n",
    "adaboost_model = AdaBoostClassifier()\n",
    "adaboost_model.fit(x_train, y_train)"
   ]
  },
  {
   "cell_type": "markdown",
   "id": "00a48d45-5be5-4645-88d0-78dc91a2c804",
   "metadata": {},
   "source": []
  }
 ],
 "metadata": {
  "kernelspec": {
   "display_name": "Python 3 (ipykernel)",
   "language": "python",
   "name": "python3"
  },
  "language_info": {
   "codemirror_mode": {
    "name": "ipython",
    "version": 3
   },
   "file_extension": ".py",
   "mimetype": "text/x-python",
   "name": "python",
   "nbconvert_exporter": "python",
   "pygments_lexer": "ipython3",
   "version": "3.12.4"
  }
 },
 "nbformat": 4,
 "nbformat_minor": 5
}
